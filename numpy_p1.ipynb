{
 "cells": [
  {
   "cell_type": "code",
   "execution_count": 1,
   "id": "36f50e7e-efe7-4b77-88a8-991a71adb646",
   "metadata": {},
   "outputs": [],
   "source": [
    "import numpy as np"
   ]
  },
  {
   "cell_type": "code",
   "execution_count": 2,
   "id": "dde71023-b5bd-4d2f-96e7-1c415d042480",
   "metadata": {},
   "outputs": [],
   "source": [
    "l =list(range(10))"
   ]
  },
  {
   "cell_type": "code",
   "execution_count": 3,
   "id": "85359714-17c1-457c-8627-579d484a850a",
   "metadata": {},
   "outputs": [
    {
     "data": {
      "text/plain": [
       "[0, 1, 2, 3, 4, 5, 6, 7, 8, 9]"
      ]
     },
     "execution_count": 3,
     "metadata": {},
     "output_type": "execute_result"
    }
   ],
   "source": [
    "l"
   ]
  },
  {
   "cell_type": "code",
   "execution_count": 4,
   "id": "8bfa1679-7abe-45b3-817e-a260cd5bf475",
   "metadata": {},
   "outputs": [],
   "source": [
    "n_a = np.array(l)"
   ]
  },
  {
   "cell_type": "code",
   "execution_count": 6,
   "id": "3b36cd30-5541-4b27-80e9-b4b6f6e0060a",
   "metadata": {},
   "outputs": [
    {
     "data": {
      "text/plain": [
       "numpy.ndarray"
      ]
     },
     "execution_count": 6,
     "metadata": {},
     "output_type": "execute_result"
    }
   ],
   "source": [
    "type(n_a)"
   ]
  },
  {
   "cell_type": "code",
   "execution_count": 7,
   "id": "50b4af60-44d3-43db-a251-2d1ab6da7265",
   "metadata": {},
   "outputs": [
    {
     "data": {
      "text/plain": [
       "array([0, 1, 2, 3, 4, 5, 6, 7, 8, 9])"
      ]
     },
     "execution_count": 7,
     "metadata": {},
     "output_type": "execute_result"
    }
   ],
   "source": [
    "np.asarray(l)"
   ]
  },
  {
   "cell_type": "code",
   "execution_count": 8,
   "id": "e4d10179-d391-4745-8722-c70d492a6ae3",
   "metadata": {},
   "outputs": [],
   "source": [
    "l1 =[1,2,3]\n",
    "l2 =[4,5,6]"
   ]
  },
  {
   "cell_type": "code",
   "execution_count": 26,
   "id": "2181e6ba-fafc-4945-a8d6-3f8b40f091ca",
   "metadata": {},
   "outputs": [],
   "source": [
    "arr2 = np.array([l1,l2,l2])"
   ]
  },
  {
   "cell_type": "code",
   "execution_count": 27,
   "id": "99e09578-c226-46ff-bbf6-1c7cd19b0ac8",
   "metadata": {},
   "outputs": [
    {
     "data": {
      "text/plain": [
       "array([[1, 2, 3],\n",
       "       [4, 5, 6],\n",
       "       [4, 5, 6]])"
      ]
     },
     "execution_count": 27,
     "metadata": {},
     "output_type": "execute_result"
    }
   ],
   "source": [
    "arr2"
   ]
  },
  {
   "cell_type": "code",
   "execution_count": 28,
   "id": "81c62a26-2bee-4cc1-bdf8-4f489ea562ec",
   "metadata": {},
   "outputs": [
    {
     "data": {
      "text/plain": [
       "2"
      ]
     },
     "execution_count": 28,
     "metadata": {},
     "output_type": "execute_result"
    }
   ],
   "source": [
    "arr2.ndim"
   ]
  },
  {
   "cell_type": "code",
   "execution_count": 29,
   "id": "a4d10915-be1f-4b32-bf18-ac581b1ab57c",
   "metadata": {},
   "outputs": [],
   "source": [
    "arr3 = np.array([[l1,l2,l2],[l2,l1,l2]])"
   ]
  },
  {
   "cell_type": "code",
   "execution_count": 31,
   "id": "63027d2f-c212-4a7d-85d5-1309ff06fd1c",
   "metadata": {},
   "outputs": [
    {
     "data": {
      "text/plain": [
       "array([[[1, 2, 3],\n",
       "        [4, 5, 6],\n",
       "        [4, 5, 6]],\n",
       "\n",
       "       [[4, 5, 6],\n",
       "        [1, 2, 3],\n",
       "        [4, 5, 6]]])"
      ]
     },
     "execution_count": 31,
     "metadata": {},
     "output_type": "execute_result"
    }
   ],
   "source": [
    "arr3"
   ]
  },
  {
   "cell_type": "code",
   "execution_count": 32,
   "id": "ea5fdd9a-e8fb-4461-952b-a52a76075308",
   "metadata": {},
   "outputs": [
    {
     "data": {
      "text/plain": [
       "3"
      ]
     },
     "execution_count": 32,
     "metadata": {},
     "output_type": "execute_result"
    }
   ],
   "source": [
    "arr3.ndim"
   ]
  },
  {
   "cell_type": "code",
   "execution_count": 37,
   "id": "6ab07774-b07a-4c56-a432-28a591d1ac56",
   "metadata": {},
   "outputs": [
    {
     "data": {
      "text/plain": [
       "array([[ True, False, False],\n",
       "       [False,  True, False],\n",
       "       [False, False,  True]])"
      ]
     },
     "execution_count": 37,
     "metadata": {},
     "output_type": "execute_result"
    }
   ],
   "source": [
    "# Construct an array by executing a function over each coordinate(x,y). \n",
    "np.fromfunction(lambda x,y: x == y,(3,3))"
   ]
  },
  {
   "cell_type": "code",
   "execution_count": 53,
   "id": "5c0d59b5-9081-4e5d-8532-5223af3dc04b",
   "metadata": {},
   "outputs": [],
   "source": [
    "mat1 = np.fromfunction(lambda x,y: x**y,(3,3))"
   ]
  },
  {
   "cell_type": "code",
   "execution_count": 40,
   "id": "b4dbcc35-7d66-4250-9f40-8c660a43cefa",
   "metadata": {},
   "outputs": [
    {
     "data": {
      "text/plain": [
       "<generator object <genexpr> at 0x7fec169d09e0>"
      ]
     },
     "execution_count": 40,
     "metadata": {},
     "output_type": "execute_result"
    }
   ],
   "source": [
    "# Construct an array from iterable object\n",
    "(i for i in range(10))"
   ]
  },
  {
   "cell_type": "code",
   "execution_count": 41,
   "id": "46bb0f15-ec17-4852-b6ab-abe30d27d901",
   "metadata": {},
   "outputs": [],
   "source": [
    "iter_obj  = (i for i in range(10))"
   ]
  },
  {
   "cell_type": "code",
   "execution_count": 42,
   "id": "6f6c69f4-3905-47b8-9c63-823344aeb7a3",
   "metadata": {},
   "outputs": [
    {
     "data": {
      "text/plain": [
       "array([0, 1, 2, 3, 4, 5, 6, 7, 8, 9])"
      ]
     },
     "execution_count": 42,
     "metadata": {},
     "output_type": "execute_result"
    }
   ],
   "source": [
    "np.fromiter(iter_obj,dtype='int64')"
   ]
  },
  {
   "cell_type": "code",
   "execution_count": 49,
   "id": "f94ab239-17b6-4ed3-87a5-fc2af1b9d7d3",
   "metadata": {},
   "outputs": [],
   "source": [
    "# construct an array from string\n",
    "str_list = '1;2;3;4;5;6;7'\n",
    "str_arr = np.fromstring(str_list,sep=';',dtype=\"int64\")"
   ]
  },
  {
   "cell_type": "code",
   "execution_count": 51,
   "id": "73edda43-44ac-443a-b5b5-a1e88ad7b521",
   "metadata": {},
   "outputs": [
    {
     "data": {
      "text/plain": [
       "56"
      ]
     },
     "execution_count": 51,
     "metadata": {},
     "output_type": "execute_result"
    }
   ],
   "source": [
    "str_arr.nbytes"
   ]
  },
  {
   "cell_type": "code",
   "execution_count": 52,
   "id": "8ea07c89-a4ad-4e98-b772-5d5dfc73f852",
   "metadata": {},
   "outputs": [
    {
     "data": {
      "text/plain": [
       "7"
      ]
     },
     "execution_count": 52,
     "metadata": {},
     "output_type": "execute_result"
    }
   ],
   "source": [
    "str_arr.size"
   ]
  },
  {
   "cell_type": "code",
   "execution_count": 54,
   "id": "77ddaf25-76cd-4c91-9082-f7bb2f5f3575",
   "metadata": {},
   "outputs": [
    {
     "data": {
      "text/plain": [
       "9"
      ]
     },
     "execution_count": 54,
     "metadata": {},
     "output_type": "execute_result"
    }
   ],
   "source": [
    "mat1.size"
   ]
  },
  {
   "cell_type": "code",
   "execution_count": 55,
   "id": "6f174485-d3cf-47c5-9b35-d9d1182eb913",
   "metadata": {},
   "outputs": [
    {
     "data": {
      "text/plain": [
       "(3, 3)"
      ]
     },
     "execution_count": 55,
     "metadata": {},
     "output_type": "execute_result"
    }
   ],
   "source": [
    "mat1.shape"
   ]
  },
  {
   "cell_type": "code",
   "execution_count": 56,
   "id": "4847db8e-70e4-4bba-b6f8-f5c4e9d4fb39",
   "metadata": {},
   "outputs": [
    {
     "data": {
      "text/plain": [
       "2"
      ]
     },
     "execution_count": 56,
     "metadata": {},
     "output_type": "execute_result"
    }
   ],
   "source": [
    "mat1.ndim"
   ]
  },
  {
   "cell_type": "code",
   "execution_count": 58,
   "id": "adb46a65-ae2a-4438-9100-52877eca838a",
   "metadata": {},
   "outputs": [
    {
     "data": {
      "text/plain": [
       "dtype('float64')"
      ]
     },
     "execution_count": 58,
     "metadata": {},
     "output_type": "execute_result"
    }
   ],
   "source": [
    "mat1.dtype"
   ]
  },
  {
   "cell_type": "code",
   "execution_count": null,
   "id": "1178819f-992a-4b28-a065-3aa161ddd0e9",
   "metadata": {},
   "outputs": [],
   "source": []
  }
 ],
 "metadata": {
  "kernelspec": {
   "display_name": "Python 3 (ipykernel)",
   "language": "python",
   "name": "python3"
  },
  "language_info": {
   "codemirror_mode": {
    "name": "ipython",
    "version": 3
   },
   "file_extension": ".py",
   "mimetype": "text/x-python",
   "name": "python",
   "nbconvert_exporter": "python",
   "pygments_lexer": "ipython3",
   "version": "3.10.8"
  }
 },
 "nbformat": 4,
 "nbformat_minor": 5
}
