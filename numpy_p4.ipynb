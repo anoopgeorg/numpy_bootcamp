{
 "cells": [
  {
   "cell_type": "code",
   "execution_count": 13,
   "id": "685701de-0ddf-44d5-a11b-04c68c6fd8e5",
   "metadata": {},
   "outputs": [],
   "source": [
    "import numpy as np"
   ]
  },
  {
   "cell_type": "code",
   "execution_count": 14,
   "id": "918616bf-c1f5-41e8-a5ad-6c879f739333",
   "metadata": {},
   "outputs": [],
   "source": [
    "arr = np.random.randint(1,10,(10))"
   ]
  },
  {
   "cell_type": "code",
   "execution_count": 15,
   "id": "78c0dff8-b723-446c-a9c1-f891af8ee96b",
   "metadata": {},
   "outputs": [
    {
     "data": {
      "text/plain": [
       "array([7, 4, 5, 9, 8, 7, 1, 6, 2, 5])"
      ]
     },
     "execution_count": 15,
     "metadata": {},
     "output_type": "execute_result"
    }
   ],
   "source": [
    "arr"
   ]
  },
  {
   "cell_type": "code",
   "execution_count": 16,
   "id": "f9ffaa82-f4ae-42b0-b3da-d495cfa13229",
   "metadata": {},
   "outputs": [],
   "source": [
    "# Sort, Search & Count functions\n",
    "arr.sort()"
   ]
  },
  {
   "cell_type": "code",
   "execution_count": 17,
   "id": "5116e4d2-df9e-400a-bf40-3ca07fe2c289",
   "metadata": {},
   "outputs": [
    {
     "data": {
      "text/plain": [
       "array([1, 2, 4, 5, 5, 6, 7, 7, 8, 9])"
      ]
     },
     "execution_count": 17,
     "metadata": {},
     "output_type": "execute_result"
    }
   ],
   "source": [
    "arr"
   ]
  },
  {
   "cell_type": "code",
   "execution_count": 19,
   "id": "dfde0fe4-7345-4591-8714-b763e9ba84b2",
   "metadata": {},
   "outputs": [
    {
     "data": {
      "text/plain": [
       "2"
      ]
     },
     "execution_count": 19,
     "metadata": {},
     "output_type": "execute_result"
    }
   ],
   "source": [
    "# Find indices where elements should be inserted to maintain order.\n",
    "arr.searchsorted(3)"
   ]
  },
  {
   "cell_type": "code",
   "execution_count": 24,
   "id": "48cc58b8-6143-4222-b818-df1c1319b45d",
   "metadata": {},
   "outputs": [
    {
     "data": {
      "text/plain": [
       "10"
      ]
     },
     "execution_count": 24,
     "metadata": {},
     "output_type": "execute_result"
    }
   ],
   "source": [
    "# Count non-sero elements\n",
    "np.count_nonzero(arr)"
   ]
  },
  {
   "cell_type": "code",
   "execution_count": 27,
   "id": "38b73850-0f26-4d6b-8132-9d1f4c69f581",
   "metadata": {},
   "outputs": [
    {
     "data": {
      "text/plain": [
       "(array([6, 7, 8, 9]),)"
      ]
     },
     "execution_count": 27,
     "metadata": {},
     "output_type": "execute_result"
    }
   ],
   "source": [
    "# Search where the element exists -Returns the indcies of elements that satisfy the condition\n",
    "np.where(arr >6)"
   ]
  },
  {
   "cell_type": "code",
   "execution_count": 28,
   "id": "67f70779-da7e-4926-9b87-c26467fc70b7",
   "metadata": {},
   "outputs": [
    {
     "data": {
      "text/plain": [
       "array([7, 7, 8, 9])"
      ]
     },
     "execution_count": 28,
     "metadata": {},
     "output_type": "execute_result"
    }
   ],
   "source": [
    "np.extract(arr >6,arr)"
   ]
  },
  {
   "cell_type": "code",
   "execution_count": 29,
   "id": "2d9f8b2e-8b25-4be3-bceb-b4c4291e4d16",
   "metadata": {},
   "outputs": [],
   "source": [
    "arr_3 = np.array([1,2,3,4,5,6])"
   ]
  },
  {
   "cell_type": "code",
   "execution_count": 39,
   "id": "f3e6cf11-bec7-4799-97f2-3e03462bf648",
   "metadata": {},
   "outputs": [],
   "source": [
    "# Numpy copies and views\n",
    "\n",
    "# Shallow copy: pointer refers to the original arry rather than creating a new one\n",
    "arr_4 = arr_3\n",
    "\n",
    "# Shallow copy can als0 be created using\n",
    "arr_v = arr_3.view()"
   ]
  },
  {
   "cell_type": "code",
   "execution_count": 40,
   "id": "7698af3c-87bc-4de4-b0fc-becef431fd8a",
   "metadata": {},
   "outputs": [],
   "source": [
    "arr_4[0] = 3"
   ]
  },
  {
   "cell_type": "code",
   "execution_count": 41,
   "id": "cb49ec01-9d89-4cd0-98ef-3b146159801c",
   "metadata": {},
   "outputs": [
    {
     "data": {
      "text/plain": [
       "array([3, 2, 3, 4, 5, 6])"
      ]
     },
     "execution_count": 41,
     "metadata": {},
     "output_type": "execute_result"
    }
   ],
   "source": [
    "arr_4"
   ]
  },
  {
   "cell_type": "code",
   "execution_count": 42,
   "id": "f8b7c4a7-4046-4a68-92b3-f28746e42a51",
   "metadata": {},
   "outputs": [
    {
     "data": {
      "text/plain": [
       "array([3, 2, 3, 4, 5, 6])"
      ]
     },
     "execution_count": 42,
     "metadata": {},
     "output_type": "execute_result"
    }
   ],
   "source": [
    "arr_3"
   ]
  },
  {
   "cell_type": "code",
   "execution_count": 43,
   "id": "af94d12b-dfab-4be3-b8c3-d373d40f0558",
   "metadata": {},
   "outputs": [],
   "source": [
    "# Deep copy: Creates a copy\n",
    "arr_5 = arr_3.copy()"
   ]
  },
  {
   "cell_type": "code",
   "execution_count": 44,
   "id": "5de37c42-23ae-4cef-9369-ed8f65fc2a18",
   "metadata": {},
   "outputs": [],
   "source": [
    "arr_5[0]=45"
   ]
  },
  {
   "cell_type": "code",
   "execution_count": 45,
   "id": "06fa32c4-3b96-42fb-bea7-dd4fec55e996",
   "metadata": {},
   "outputs": [
    {
     "data": {
      "text/plain": [
       "array([45,  2,  3,  4,  5,  6])"
      ]
     },
     "execution_count": 45,
     "metadata": {},
     "output_type": "execute_result"
    }
   ],
   "source": [
    "arr_5"
   ]
  },
  {
   "cell_type": "code",
   "execution_count": 46,
   "id": "244cdbc9-88f1-4256-8639-14e26e7a8af5",
   "metadata": {},
   "outputs": [
    {
     "data": {
      "text/plain": [
       "array([3, 2, 3, 4, 5, 6])"
      ]
     },
     "execution_count": 46,
     "metadata": {},
     "output_type": "execute_result"
    }
   ],
   "source": [
    "arr_3"
   ]
  },
  {
   "cell_type": "code",
   "execution_count": 47,
   "id": "9638ec20-fcb4-4621-9314-eef47a1bf44c",
   "metadata": {},
   "outputs": [],
   "source": [
    "# Numpy Matrix Library\n",
    "import numpy.matlib as nm"
   ]
  },
  {
   "cell_type": "code",
   "execution_count": 51,
   "id": "8d3f6352-a71f-4751-9c9b-65195a30e081",
   "metadata": {},
   "outputs": [
    {
     "data": {
      "text/plain": [
       "matrix([[0., 0., 0.],\n",
       "        [0., 0., 0.],\n",
       "        [0., 0., 0.]])"
      ]
     },
     "execution_count": 51,
     "metadata": {},
     "output_type": "execute_result"
    }
   ],
   "source": [
    "nm.zeros((3,3))"
   ]
  },
  {
   "cell_type": "code",
   "execution_count": 54,
   "id": "fe41c32c-49af-46c6-abd7-ff3afea7e855",
   "metadata": {},
   "outputs": [
    {
     "data": {
      "text/plain": [
       "matrix([[1., 1., 1., 1.],\n",
       "        [1., 1., 1., 1.],\n",
       "        [1., 1., 1., 1.],\n",
       "        [1., 1., 1., 1.]])"
      ]
     },
     "execution_count": 54,
     "metadata": {},
     "output_type": "execute_result"
    }
   ],
   "source": [
    "nm.ones((4,4))"
   ]
  },
  {
   "cell_type": "code",
   "execution_count": 56,
   "id": "f8f5d370-018f-46f4-81ad-717fca9d82c2",
   "metadata": {},
   "outputs": [
    {
     "data": {
      "text/plain": [
       "matrix([[1., 0., 0.],\n",
       "        [0., 1., 0.],\n",
       "        [0., 0., 1.]])"
      ]
     },
     "execution_count": 56,
     "metadata": {},
     "output_type": "execute_result"
    }
   ],
   "source": [
    "nm.eye((3))"
   ]
  }
 ],
 "metadata": {
  "kernelspec": {
   "display_name": "Python 3 (ipykernel)",
   "language": "python",
   "name": "python3"
  },
  "language_info": {
   "codemirror_mode": {
    "name": "ipython",
    "version": 3
   },
   "file_extension": ".py",
   "mimetype": "text/x-python",
   "name": "python",
   "nbconvert_exporter": "python",
   "pygments_lexer": "ipython3",
   "version": "3.10.8"
  }
 },
 "nbformat": 4,
 "nbformat_minor": 5
}
