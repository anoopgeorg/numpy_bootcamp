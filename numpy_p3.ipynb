{
 "cells": [
  {
   "cell_type": "code",
   "execution_count": 1,
   "id": "94ddca1f-d824-4403-a648-58e3d4de339f",
   "metadata": {},
   "outputs": [],
   "source": [
    "import numpy as np"
   ]
  },
  {
   "cell_type": "code",
   "execution_count": 2,
   "id": "51c94fcf-3d58-4a37-a7b2-d504dc4f94cc",
   "metadata": {},
   "outputs": [],
   "source": [
    "# Range can only generate integers\n",
    "l = list(range(10))"
   ]
  },
  {
   "cell_type": "code",
   "execution_count": 3,
   "id": "af5679c5-5a5b-4b80-8d32-14c8cb4ed559",
   "metadata": {},
   "outputs": [
    {
     "data": {
      "text/plain": [
       "array([0.4, 0.5, 0.6, 0.7, 0.8, 0.9, 1. , 1.1, 1.2, 1.3, 1.4, 1.5, 1.6,\n",
       "       1.7, 1.8, 1.9, 2. , 2.1, 2.2, 2.3, 2.4, 2.5, 2.6, 2.7, 2.8, 2.9,\n",
       "       3. , 3.1, 3.2, 3.3, 3.4, 3.5, 3.6, 3.7, 3.8, 3.9, 4. , 4.1, 4.2,\n",
       "       4.3, 4.4, 4.5, 4.6, 4.7, 4.8, 4.9, 5. , 5.1, 5.2, 5.3, 5.4, 5.5,\n",
       "       5.6, 5.7, 5.8, 5.9, 6. , 6.1, 6.2, 6.3, 6.4, 6.5, 6.6, 6.7, 6.8,\n",
       "       6.9, 7. , 7.1, 7.2, 7.3, 7.4, 7.5, 7.6, 7.7, 7.8, 7.9, 8. , 8.1,\n",
       "       8.2, 8.3, 8.4, 8.5, 8.6, 8.7, 8.8, 8.9, 9. , 9.1, 9.2, 9.3, 9.4,\n",
       "       9.5, 9.6, 9.7, 9.8, 9.9])"
      ]
     },
     "execution_count": 3,
     "metadata": {},
     "output_type": "execute_result"
    }
   ],
   "source": [
    "# If we need to generate floats use np.arange()\n",
    "np.arange(.4,10,step=0.10)"
   ]
  },
  {
   "cell_type": "code",
   "execution_count": 4,
   "id": "6cf524ac-cc6a-426a-bf5e-ae024017ded9",
   "metadata": {},
   "outputs": [
    {
     "data": {
      "text/plain": [
       "array([1.        , 1.08333333, 1.16666667, 1.25      , 1.33333333,\n",
       "       1.41666667, 1.5       , 1.58333333, 1.66666667, 1.75      ,\n",
       "       1.83333333, 1.91666667, 2.        , 2.08333333, 2.16666667,\n",
       "       2.25      , 2.33333333, 2.41666667, 2.5       , 2.58333333,\n",
       "       2.66666667, 2.75      , 2.83333333, 2.91666667, 3.        ])"
      ]
     },
     "execution_count": 4,
     "metadata": {},
     "output_type": "execute_result"
    }
   ],
   "source": [
    "# Return evenly spaced numbers over a specified interval. -> used to generate data \n",
    "np.linspace(1,3,num=25)"
   ]
  },
  {
   "cell_type": "code",
   "execution_count": 5,
   "id": "7c15a6e8-0db0-4455-89fa-b2b2bd4471db",
   "metadata": {},
   "outputs": [
    {
     "data": {
      "text/plain": [
       "array([  10.        ,   12.74274986,   16.23776739,   20.69138081,\n",
       "         26.36650899,   33.59818286,   42.81332399,   54.55594781,\n",
       "         69.51927962,   88.58667904,  112.88378917,  143.84498883,\n",
       "        183.29807108,  233.57214691,  297.63514416,  379.26901907,\n",
       "        483.29302386,  615.84821107,  784.75997035, 1000.        ])"
      ]
     },
     "execution_count": 5,
     "metadata": {},
     "output_type": "execute_result"
    }
   ],
   "source": [
    "# Return numbers spaced evenly on a log scale.\n",
    "np.logspace(1,3,num=20)"
   ]
  },
  {
   "cell_type": "code",
   "execution_count": 6,
   "id": "15320c1a-65cd-4bf6-8fbe-1c66a164f298",
   "metadata": {},
   "outputs": [
    {
     "data": {
      "text/plain": [
       "array([0., 0., 0., 0.])"
      ]
     },
     "execution_count": 6,
     "metadata": {},
     "output_type": "execute_result"
    }
   ],
   "source": [
    "np.zeros(4)"
   ]
  },
  {
   "cell_type": "code",
   "execution_count": 7,
   "id": "24d284f9-d724-40f6-b1cc-8b70f412fc46",
   "metadata": {},
   "outputs": [
    {
     "data": {
      "text/plain": [
       "array([[0., 0., 0.],\n",
       "       [0., 0., 0.],\n",
       "       [0., 0., 0.]])"
      ]
     },
     "execution_count": 7,
     "metadata": {},
     "output_type": "execute_result"
    }
   ],
   "source": [
    "np.zeros(shape=(3,3))"
   ]
  },
  {
   "cell_type": "code",
   "execution_count": 8,
   "id": "efc3d014-6287-48f9-8885-a5a30291d91f",
   "metadata": {},
   "outputs": [
    {
     "data": {
      "text/plain": [
       "array([[[0., 0., 0.],\n",
       "        [0., 0., 0.],\n",
       "        [0., 0., 0.]],\n",
       "\n",
       "       [[0., 0., 0.],\n",
       "        [0., 0., 0.],\n",
       "        [0., 0., 0.]]])"
      ]
     },
     "execution_count": 8,
     "metadata": {},
     "output_type": "execute_result"
    }
   ],
   "source": [
    "np.zeros(shape=(2,3,3))"
   ]
  },
  {
   "cell_type": "code",
   "execution_count": 9,
   "id": "b4f8fa46-3107-4b00-90aa-ade291ffa85c",
   "metadata": {},
   "outputs": [],
   "source": [
    "arr_4d =np.zeros(shape=(2,2,3,3))"
   ]
  },
  {
   "cell_type": "code",
   "execution_count": 10,
   "id": "fad616f0-dd95-41e0-b0eb-75d8ddafeabc",
   "metadata": {},
   "outputs": [
    {
     "data": {
      "text/plain": [
       "array([[[[0., 0., 0.],\n",
       "         [0., 0., 0.],\n",
       "         [0., 0., 0.]],\n",
       "\n",
       "        [[0., 0., 0.],\n",
       "         [0., 0., 0.],\n",
       "         [0., 0., 0.]]],\n",
       "\n",
       "\n",
       "       [[[0., 0., 0.],\n",
       "         [0., 0., 0.],\n",
       "         [0., 0., 0.]],\n",
       "\n",
       "        [[0., 0., 0.],\n",
       "         [0., 0., 0.],\n",
       "         [0., 0., 0.]]]])"
      ]
     },
     "execution_count": 10,
     "metadata": {},
     "output_type": "execute_result"
    }
   ],
   "source": [
    "arr_4d"
   ]
  },
  {
   "cell_type": "code",
   "execution_count": 11,
   "id": "1a834707-b622-4602-a5ba-976622fbe731",
   "metadata": {},
   "outputs": [
    {
     "data": {
      "text/plain": [
       "4"
      ]
     },
     "execution_count": 11,
     "metadata": {},
     "output_type": "execute_result"
    }
   ],
   "source": [
    "arr_4d.ndim\n"
   ]
  },
  {
   "cell_type": "code",
   "execution_count": 12,
   "id": "b85ef2d4-d484-4545-989c-8bbf311b4e87",
   "metadata": {},
   "outputs": [
    {
     "data": {
      "text/plain": [
       "(2, 2, 3, 3)"
      ]
     },
     "execution_count": 12,
     "metadata": {},
     "output_type": "execute_result"
    }
   ],
   "source": [
    "arr_4d.shape"
   ]
  },
  {
   "cell_type": "code",
   "execution_count": 13,
   "id": "97ed06ec-5bcd-4457-afde-f797d4dce660",
   "metadata": {},
   "outputs": [
    {
     "data": {
      "text/plain": [
       "36"
      ]
     },
     "execution_count": 13,
     "metadata": {},
     "output_type": "execute_result"
    }
   ],
   "source": [
    "arr_4d.size"
   ]
  },
  {
   "cell_type": "code",
   "execution_count": 14,
   "id": "e9c2a4dc-71a9-4d81-b5f3-c18302cd1ecd",
   "metadata": {},
   "outputs": [
    {
     "data": {
      "text/plain": [
       "array([1., 1., 1.])"
      ]
     },
     "execution_count": 14,
     "metadata": {},
     "output_type": "execute_result"
    }
   ],
   "source": [
    "np.ones(3)"
   ]
  },
  {
   "cell_type": "code",
   "execution_count": 15,
   "id": "7c28cfc0-f55a-4004-9644-2571500c7b11",
   "metadata": {},
   "outputs": [],
   "source": [
    "ones_1 = np.ones((2,3))"
   ]
  },
  {
   "cell_type": "code",
   "execution_count": 16,
   "id": "cda116f2-52d9-4e1d-b45a-6ce024809192",
   "metadata": {},
   "outputs": [
    {
     "data": {
      "text/plain": [
       "array([[4., 4., 4.],\n",
       "       [4., 4., 4.]])"
      ]
     },
     "execution_count": 16,
     "metadata": {},
     "output_type": "execute_result"
    }
   ],
   "source": [
    "ones_1 +3 "
   ]
  },
  {
   "cell_type": "code",
   "execution_count": 17,
   "id": "9a79a210-ddd4-4544-b3dd-d9f385d5d1b3",
   "metadata": {},
   "outputs": [
    {
     "data": {
      "text/plain": [
       "array([[1., 0., 0.],\n",
       "       [0., 1., 0.],\n",
       "       [0., 0., 1.]])"
      ]
     },
     "execution_count": 17,
     "metadata": {},
     "output_type": "execute_result"
    }
   ],
   "source": [
    "np.eye(3)"
   ]
  },
  {
   "cell_type": "code",
   "execution_count": 18,
   "id": "4e43f448-5eec-4726-a360-2294ba7cdd1d",
   "metadata": {},
   "outputs": [
    {
     "data": {
      "text/plain": [
       "array([[1., 0., 0., 0.],\n",
       "       [0., 1., 0., 0.],\n",
       "       [0., 0., 1., 0.],\n",
       "       [0., 0., 0., 1.]])"
      ]
     },
     "execution_count": 18,
     "metadata": {},
     "output_type": "execute_result"
    }
   ],
   "source": [
    "np.eye(4)"
   ]
  },
  {
   "cell_type": "code",
   "execution_count": 19,
   "id": "da88dd57-0050-45f4-9d03-3f74b96b6ab8",
   "metadata": {},
   "outputs": [],
   "source": [
    "import pandas as pd"
   ]
  },
  {
   "cell_type": "code",
   "execution_count": 20,
   "id": "1113dda4-ff93-449e-8a84-b375d08311f2",
   "metadata": {},
   "outputs": [
    {
     "data": {
      "text/html": [
       "<div>\n",
       "<style scoped>\n",
       "    .dataframe tbody tr th:only-of-type {\n",
       "        vertical-align: middle;\n",
       "    }\n",
       "\n",
       "    .dataframe tbody tr th {\n",
       "        vertical-align: top;\n",
       "    }\n",
       "\n",
       "    .dataframe thead th {\n",
       "        text-align: right;\n",
       "    }\n",
       "</style>\n",
       "<table border=\"1\" class=\"dataframe\">\n",
       "  <thead>\n",
       "    <tr style=\"text-align: right;\">\n",
       "      <th></th>\n",
       "      <th>0</th>\n",
       "      <th>1</th>\n",
       "      <th>2</th>\n",
       "    </tr>\n",
       "  </thead>\n",
       "  <tbody>\n",
       "    <tr>\n",
       "      <th>0</th>\n",
       "      <td>1.0</td>\n",
       "      <td>1.0</td>\n",
       "      <td>1.0</td>\n",
       "    </tr>\n",
       "    <tr>\n",
       "      <th>1</th>\n",
       "      <td>1.0</td>\n",
       "      <td>1.0</td>\n",
       "      <td>1.0</td>\n",
       "    </tr>\n",
       "  </tbody>\n",
       "</table>\n",
       "</div>"
      ],
      "text/plain": [
       "     0    1    2\n",
       "0  1.0  1.0  1.0\n",
       "1  1.0  1.0  1.0"
      ]
     },
     "execution_count": 20,
     "metadata": {},
     "output_type": "execute_result"
    }
   ],
   "source": [
    "pd.DataFrame(ones_1)"
   ]
  },
  {
   "cell_type": "code",
   "execution_count": 21,
   "id": "8ea70598-e886-4ab2-8358-604f8b3dade8",
   "metadata": {},
   "outputs": [
    {
     "data": {
      "text/plain": [
       "array([[0.52765816, 0.67536102, 0.80542804, 0.7328401 ],\n",
       "       [0.4311499 , 0.28965885, 0.82494335, 0.91094948],\n",
       "       [0.2394689 , 0.32657102, 0.55139604, 0.67237777]])"
      ]
     },
     "execution_count": 21,
     "metadata": {},
     "output_type": "execute_result"
    }
   ],
   "source": [
    "# Random values in a given shape.\n",
    "np.random.rand(3,4)"
   ]
  },
  {
   "cell_type": "code",
   "execution_count": 22,
   "id": "7bd32aea-dbff-4927-b568-3e3b56bf4d52",
   "metadata": {},
   "outputs": [
    {
     "data": {
      "text/plain": [
       "array([[ 0.15991941,  0.73067699,  0.56301779, -0.46561939],\n",
       "       [-0.06329226, -1.16679601,  0.61742874,  0.80126729],\n",
       "       [ 0.74069871, -0.58788092,  0.44135222,  0.11014738]])"
      ]
     },
     "execution_count": 22,
     "metadata": {},
     "output_type": "execute_result"
    }
   ],
   "source": [
    "#Return a sample (or samples) from the \"standard normal\" distribution.\n",
    "np.random.randn(3,4)"
   ]
  },
  {
   "cell_type": "code",
   "execution_count": 25,
   "id": "5a15aa37-35bb-4bc1-8dff-c8052164d7f4",
   "metadata": {},
   "outputs": [],
   "source": [
    "mat_rand = np.random.randint(1,6,(3,3))"
   ]
  },
  {
   "cell_type": "code",
   "execution_count": 26,
   "id": "29575088-19f6-45d2-8632-c174d64cb0c1",
   "metadata": {},
   "outputs": [
    {
     "data": {
      "text/plain": [
       "array([[5, 5, 4],\n",
       "       [2, 5, 1],\n",
       "       [2, 1, 1]])"
      ]
     },
     "execution_count": 26,
     "metadata": {},
     "output_type": "execute_result"
    }
   ],
   "source": [
    "mat_rand"
   ]
  },
  {
   "cell_type": "code",
   "execution_count": 33,
   "id": "f07b58d4-7e51-4036-b7fe-210675891b96",
   "metadata": {},
   "outputs": [
    {
     "data": {
      "text/plain": [
       "array([[5, 5, 4, 2, 5, 1, 2, 1, 1]])"
      ]
     },
     "execution_count": 33,
     "metadata": {},
     "output_type": "execute_result"
    }
   ],
   "source": [
    "mat_rand.reshape((1,9))"
   ]
  },
  {
   "cell_type": "code",
   "execution_count": 34,
   "id": "fdc4b5ca-4d48-4001-b242-15d974ad5453",
   "metadata": {},
   "outputs": [
    {
     "data": {
      "text/plain": [
       "array([[5, 5, 4],\n",
       "       [2, 5, 1],\n",
       "       [2, 1, 1]])"
      ]
     },
     "execution_count": 34,
     "metadata": {},
     "output_type": "execute_result"
    }
   ],
   "source": [
    "mat_rand.reshape((3,3))"
   ]
  },
  {
   "cell_type": "code",
   "execution_count": 39,
   "id": "0b0f013a-8267-463f-9a96-c1c29cf3a716",
   "metadata": {},
   "outputs": [],
   "source": [
    "# applying conditionto the elements\n",
    "arr_a = np.random.randint(0,100,(4,5))"
   ]
  },
  {
   "cell_type": "code",
   "execution_count": 40,
   "id": "b40de9bc-8bc2-412a-9c5e-8b55161a7f00",
   "metadata": {},
   "outputs": [
    {
     "data": {
      "text/plain": [
       "array([[19, 49, 48, 22, 53],\n",
       "       [ 4, 39, 52, 20, 20],\n",
       "       [28, 56, 87, 31, 81],\n",
       "       [ 4, 40, 77, 66, 15]])"
      ]
     },
     "execution_count": 40,
     "metadata": {},
     "output_type": "execute_result"
    }
   ],
   "source": [
    "arr_a"
   ]
  },
  {
   "cell_type": "code",
   "execution_count": 41,
   "id": "677fc913-9d6d-4d40-8ce4-715f9d52c991",
   "metadata": {},
   "outputs": [
    {
     "data": {
      "text/plain": [
       "array([[False,  True,  True, False,  True],\n",
       "       [False,  True,  True, False, False],\n",
       "       [False,  True,  True,  True,  True],\n",
       "       [False,  True,  True,  True, False]])"
      ]
     },
     "execution_count": 41,
     "metadata": {},
     "output_type": "execute_result"
    }
   ],
   "source": [
    "arr_a>30"
   ]
  },
  {
   "cell_type": "code",
   "execution_count": 42,
   "id": "15d98c48-297b-4195-ab3d-a2c27f5c7870",
   "metadata": {},
   "outputs": [
    {
     "data": {
      "text/plain": [
       "array([49, 48, 53, 39, 52, 56, 87, 31, 81, 40, 77, 66])"
      ]
     },
     "execution_count": 42,
     "metadata": {},
     "output_type": "execute_result"
    }
   ],
   "source": [
    "arr_a[arr_a>30]"
   ]
  },
  {
   "cell_type": "code",
   "execution_count": 45,
   "id": "cab68aaf-ac05-46a2-ada4-8815810ea56d",
   "metadata": {},
   "outputs": [
    {
     "data": {
      "text/plain": [
       "array([39, 52])"
      ]
     },
     "execution_count": 45,
     "metadata": {},
     "output_type": "execute_result"
    }
   ],
   "source": [
    "# extrancting the elements usiing index\n",
    "arr_a[1,[1,2]]"
   ]
  },
  {
   "cell_type": "code",
   "execution_count": 46,
   "id": "3ec9e411-672e-4c44-89da-67da763f5c3b",
   "metadata": {},
   "outputs": [
    {
     "data": {
      "text/plain": [
       "array([31, 81])"
      ]
     },
     "execution_count": 46,
     "metadata": {},
     "output_type": "execute_result"
    }
   ],
   "source": [
    "arr_a[2,[3,4]]"
   ]
  },
  {
   "cell_type": "code",
   "execution_count": 47,
   "id": "2dce173b-166b-4dc3-b02e-a29de50a0f82",
   "metadata": {},
   "outputs": [
    {
     "data": {
      "text/plain": [
       "array([66, 15])"
      ]
     },
     "execution_count": 47,
     "metadata": {},
     "output_type": "execute_result"
    }
   ],
   "source": [
    "arr_a[3,[3,4]]"
   ]
  },
  {
   "cell_type": "code",
   "execution_count": 51,
   "id": "b019e40d-b4be-4090-8130-dddc7af002cf",
   "metadata": {},
   "outputs": [
    {
     "data": {
      "text/plain": [
       "array([[31, 81],\n",
       "       [66, 15]])"
      ]
     },
     "execution_count": 51,
     "metadata": {},
     "output_type": "execute_result"
    }
   ],
   "source": [
    "arr_a[2:4,[3,4]]"
   ]
  },
  {
   "cell_type": "code",
   "execution_count": 75,
   "id": "72bb0f1f-369c-47e3-ae45-cbcb2e77a585",
   "metadata": {},
   "outputs": [],
   "source": [
    "arr_x = np.random.randint(0,12,(4,4))"
   ]
  },
  {
   "cell_type": "code",
   "execution_count": 76,
   "id": "5f5efd94-a605-4951-bc40-49a5e13909e8",
   "metadata": {},
   "outputs": [],
   "source": [
    "arr_y = np.random.randint(0,3,(4,4))"
   ]
  },
  {
   "cell_type": "code",
   "execution_count": 77,
   "id": "8a6223f7-668f-4132-94f8-7ed87dd925df",
   "metadata": {},
   "outputs": [
    {
     "data": {
      "text/plain": [
       "array([[ 8,  8,  6,  3],\n",
       "       [10,  9,  5,  9],\n",
       "       [ 3,  0,  9,  6],\n",
       "       [ 8,  0, 10,  7]])"
      ]
     },
     "execution_count": 77,
     "metadata": {},
     "output_type": "execute_result"
    }
   ],
   "source": [
    "arr_x"
   ]
  },
  {
   "cell_type": "code",
   "execution_count": 78,
   "id": "f6c76494-7fd2-4d58-b013-87246015abd9",
   "metadata": {},
   "outputs": [
    {
     "data": {
      "text/plain": [
       "array([[2, 1, 2, 0],\n",
       "       [2, 1, 2, 0],\n",
       "       [0, 2, 2, 1],\n",
       "       [0, 1, 0, 1]])"
      ]
     },
     "execution_count": 78,
     "metadata": {},
     "output_type": "execute_result"
    }
   ],
   "source": [
    "arr_y"
   ]
  },
  {
   "cell_type": "code",
   "execution_count": 79,
   "id": "ca2ebf8b-a780-4c4e-9d11-b33ed7d0fb21",
   "metadata": {},
   "outputs": [
    {
     "data": {
      "text/plain": [
       "array([[10,  9,  8,  3],\n",
       "       [12, 10,  7,  9],\n",
       "       [ 3,  2, 11,  7],\n",
       "       [ 8,  1, 10,  8]])"
      ]
     },
     "execution_count": 79,
     "metadata": {},
     "output_type": "execute_result"
    }
   ],
   "source": [
    "# Element-wise additon\n",
    "arr_x + arr_y"
   ]
  },
  {
   "cell_type": "code",
   "execution_count": 80,
   "id": "6316d9f6-cb0d-4206-99e0-17683ddfe0a2",
   "metadata": {},
   "outputs": [
    {
     "data": {
      "text/plain": [
       "array([[ 6,  7,  4,  3],\n",
       "       [ 8,  8,  3,  9],\n",
       "       [ 3, -2,  7,  5],\n",
       "       [ 8, -1, 10,  6]])"
      ]
     },
     "execution_count": 80,
     "metadata": {},
     "output_type": "execute_result"
    }
   ],
   "source": [
    "# Element-wise subtraction\n",
    "arr_x - arr_y"
   ]
  },
  {
   "cell_type": "code",
   "execution_count": 81,
   "id": "407bc9d2-9c9d-443f-b52c-cffd077ec47b",
   "metadata": {},
   "outputs": [
    {
     "data": {
      "text/plain": [
       "array([[16,  8, 12,  0],\n",
       "       [20,  9, 10,  0],\n",
       "       [ 0,  0, 18,  6],\n",
       "       [ 0,  0,  0,  7]])"
      ]
     },
     "execution_count": 81,
     "metadata": {},
     "output_type": "execute_result"
    }
   ],
   "source": [
    "# Element-wise multiplication\n",
    "arr_x * arr_y"
   ]
  },
  {
   "cell_type": "code",
   "execution_count": 82,
   "id": "5271ebe3-a27d-4f41-8dfd-03c16e82534d",
   "metadata": {},
   "outputs": [
    {
     "data": {
      "text/plain": [
       "array([[32, 31, 44,  9],\n",
       "       [38, 38, 48, 14],\n",
       "       [ 6, 27, 24, 15],\n",
       "       [16, 35, 36, 17]])"
      ]
     },
     "execution_count": 82,
     "metadata": {},
     "output_type": "execute_result"
    }
   ],
   "source": [
    "# Matrix multiplication\n",
    "arr_x@arr_y"
   ]
  },
  {
   "cell_type": "code",
   "execution_count": 84,
   "id": "0a7a19bc-bf43-499f-9f04-d5f4a19522d9",
   "metadata": {},
   "outputs": [
    {
     "name": "stderr",
     "output_type": "stream",
     "text": [
      "/tmp/ipykernel_70/3416354693.py:3: RuntimeWarning: divide by zero encountered in divide\n",
      "  arr_x / arr_y\n"
     ]
    },
    {
     "data": {
      "text/plain": [
       "array([[4. , 8. , 3. , inf],\n",
       "       [5. , 9. , 2.5, inf],\n",
       "       [inf, 0. , 4.5, 6. ],\n",
       "       [inf, 0. , inf, 7. ]])"
      ]
     },
     "execution_count": 84,
     "metadata": {},
     "output_type": "execute_result"
    }
   ],
   "source": [
    "# division element wise\n",
    "# Note:When divide by zero error occurs that it returns inf which stands for infinity in numpy\n",
    "arr_x / arr_y"
   ]
  },
  {
   "cell_type": "code",
   "execution_count": 86,
   "id": "49006ec5-a8f8-4b09-9446-4c6b5a1a86eb",
   "metadata": {},
   "outputs": [],
   "source": [
    "# Broadcastign operations \n",
    "arr_0 =np.zeros((3,3))"
   ]
  },
  {
   "cell_type": "code",
   "execution_count": 87,
   "id": "9c7ab2e4-7c89-4fb9-a923-f30ce55c1a82",
   "metadata": {},
   "outputs": [
    {
     "data": {
      "text/plain": [
       "array([[0., 0., 0.],\n",
       "       [0., 0., 0.],\n",
       "       [0., 0., 0.]])"
      ]
     },
     "execution_count": 87,
     "metadata": {},
     "output_type": "execute_result"
    }
   ],
   "source": [
    "arr_0"
   ]
  },
  {
   "cell_type": "code",
   "execution_count": 88,
   "id": "76468ebe-fedb-4d7b-bac6-f483ad2b770f",
   "metadata": {},
   "outputs": [
    {
     "data": {
      "text/plain": [
       "array([[1., 1., 1.],\n",
       "       [1., 1., 1.],\n",
       "       [1., 1., 1.]])"
      ]
     },
     "execution_count": 88,
     "metadata": {},
     "output_type": "execute_result"
    }
   ],
   "source": [
    "# Broadcasting addition\n",
    "arr_0+1"
   ]
  },
  {
   "cell_type": "code",
   "execution_count": 89,
   "id": "ad27a896-c540-4bde-9b8a-6412ce3b8e17",
   "metadata": {},
   "outputs": [
    {
     "data": {
      "text/plain": [
       "array([[1., 2., 3.],\n",
       "       [1., 2., 3.],\n",
       "       [1., 2., 3.]])"
      ]
     },
     "execution_count": 89,
     "metadata": {},
     "output_type": "execute_result"
    }
   ],
   "source": [
    "# Broadcasting addition of rows\n",
    "l_arry = np.array([1,2,3])\n",
    "\n",
    "arr_0+l_arry"
   ]
  },
  {
   "cell_type": "code",
   "execution_count": 91,
   "id": "eafab6e3-d3ea-47b2-8449-1c2c45382f92",
   "metadata": {},
   "outputs": [
    {
     "data": {
      "text/plain": [
       "array([[1., 1., 1.],\n",
       "       [2., 2., 2.],\n",
       "       [3., 3., 3.]])"
      ]
     },
     "execution_count": 91,
     "metadata": {},
     "output_type": "execute_result"
    }
   ],
   "source": [
    "# Broadcasting addition of columns\n",
    "l_arry_t = np.array([[1,2,3]]).T\n",
    "\n",
    "arr_0+l_arry_t"
   ]
  },
  {
   "cell_type": "code",
   "execution_count": 92,
   "id": "3b6b77a6-cb8e-4ca7-97bf-a21cbfd207f5",
   "metadata": {},
   "outputs": [
    {
     "data": {
      "text/plain": [
       "array([[2.82842712, 2.82842712, 2.44948974, 1.73205081],\n",
       "       [3.16227766, 3.        , 2.23606798, 3.        ],\n",
       "       [1.73205081, 0.        , 3.        , 2.44948974],\n",
       "       [2.82842712, 0.        , 3.16227766, 2.64575131]])"
      ]
     },
     "execution_count": 92,
     "metadata": {},
     "output_type": "execute_result"
    }
   ],
   "source": [
    "# Squareroot\n",
    "np.sqrt(arr_x )"
   ]
  },
  {
   "cell_type": "code",
   "execution_count": 93,
   "id": "54f0bc96-c5ef-4abd-8abb-f4548e4357b7",
   "metadata": {},
   "outputs": [
    {
     "data": {
      "text/plain": [
       "array([[2.98095799e+03, 2.98095799e+03, 4.03428793e+02, 2.00855369e+01],\n",
       "       [2.20264658e+04, 8.10308393e+03, 1.48413159e+02, 8.10308393e+03],\n",
       "       [2.00855369e+01, 1.00000000e+00, 8.10308393e+03, 4.03428793e+02],\n",
       "       [2.98095799e+03, 1.00000000e+00, 2.20264658e+04, 1.09663316e+03]])"
      ]
     },
     "execution_count": 93,
     "metadata": {},
     "output_type": "execute_result"
    }
   ],
   "source": [
    "np.exp(arr_x )"
   ]
  },
  {
   "cell_type": "code",
   "execution_count": 94,
   "id": "c6042900-e090-405f-b7d4-50b725d487c5",
   "metadata": {},
   "outputs": [
    {
     "name": "stderr",
     "output_type": "stream",
     "text": [
      "/tmp/ipykernel_70/2089750675.py:1: RuntimeWarning: divide by zero encountered in log\n",
      "  np.log(arr_x)\n"
     ]
    },
    {
     "data": {
      "text/plain": [
       "array([[2.07944154, 2.07944154, 1.79175947, 1.09861229],\n",
       "       [2.30258509, 2.19722458, 1.60943791, 2.19722458],\n",
       "       [1.09861229,       -inf, 2.19722458, 1.79175947],\n",
       "       [2.07944154,       -inf, 2.30258509, 1.94591015]])"
      ]
     },
     "execution_count": 94,
     "metadata": {},
     "output_type": "execute_result"
    }
   ],
   "source": [
    "np.log(arr_x)"
   ]
  },
  {
   "cell_type": "code",
   "execution_count": null,
   "id": "9a95c73f-40aa-4ee0-b4e4-3be925f3139e",
   "metadata": {},
   "outputs": [],
   "source": []
  }
 ],
 "metadata": {
  "kernelspec": {
   "display_name": "Python 3 (ipykernel)",
   "language": "python",
   "name": "python3"
  },
  "language_info": {
   "codemirror_mode": {
    "name": "ipython",
    "version": 3
   },
   "file_extension": ".py",
   "mimetype": "text/x-python",
   "name": "python",
   "nbconvert_exporter": "python",
   "pygments_lexer": "ipython3",
   "version": "3.10.8"
  }
 },
 "nbformat": 4,
 "nbformat_minor": 5
}
